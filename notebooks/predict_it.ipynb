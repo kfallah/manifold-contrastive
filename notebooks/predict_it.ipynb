{
 "cells": [
  {
   "attachments": {},
   "cell_type": "markdown",
   "metadata": {},
   "source": [
    "# Predicting IT activity from ManifoldCLR features"
   ]
  },
  {
   "cell_type": "code",
   "execution_count": 1,
   "metadata": {},
   "outputs": [
    {
     "name": "stderr",
     "output_type": "stream",
     "text": [
      "/home/kyle/mambaforge/envs/torch/lib/python3.10/site-packages/brainscore/metrics/__init__.py:37: FutureWarning: xarray subclass Score should explicitly define __slots__\n",
      "  class Score(DataAssembly):\n"
     ]
    }
   ],
   "source": [
    "import sys\n",
    "import os\n",
    "os.chdir(os.path.dirname(os.getcwd()))\n",
    "sys.path.append(os.getcwd() + \"/src/\")\n",
    "sys.path.append(os.getcwd() + \"/neuro_simclr/\")\n",
    "\n",
    "import torch\n",
    "\n",
    "from main_trial import Backbone, VariationalEncoderConfig, CoefficientEncoder, TransOp_expm"
   ]
  },
  {
   "attachments": {},
   "cell_type": "markdown",
   "metadata": {},
   "source": [
    "## Load model"
   ]
  },
  {
   "cell_type": "code",
   "execution_count": 7,
   "metadata": {},
   "outputs": [
    {
     "data": {
      "text/plain": [
       "<All keys matched successfully>"
      ]
     },
     "execution_count": 7,
     "metadata": {},
     "output_type": "execute_result"
    }
   ],
   "source": [
    "state = torch.load(\"neuro_results/weights_randomrun.pt\", map_location=torch.device('cpu'))\n",
    "# state = torch.load(\"neuro_results/model_weights_epoch9999.pt\", map_location=torch.device('cpu'))\n",
    "args = state['args']\n",
    "args.device = 'cpu'\n",
    "\n",
    "backbone = Backbone(\n",
    "    input_dim=args.input_dim,  # TBD\n",
    "    hidden_dim=args.hidden_dim,\n",
    "    output_dim=args.backbone_output_dim,\n",
    "    num_hidden_layers=args.num_hidden_layers,\n",
    "    norm=args.backbone_batchnorm,\n",
    ").to(args.device)\n",
    "backbone.load_state_dict(state['backbone'])\n",
    "\n",
    "vi_cfg = VariationalEncoderConfig(\n",
    "    scale_prior=0.001,\n",
    "    shift_prior=0.005,\n",
    "    enable_learned_prior=True,\n",
    "    enable_prior_shift=True,\n",
    "    enable_prior_warmup=True,\n",
    "    \n",
    "    prior_warmup_iters=500,\n",
    ")\n",
    "coeff_enc = CoefficientEncoder(vi_cfg, args.backbone_output_dim, args.dict_size, args.threshold).to(\n",
    "    args.device\n",
    ")\n",
    "coeff_enc.load_state_dict(state['coeff_enc'])\n",
    "\n",
    "transop = TransOp_expm(\n",
    "    M=args.dict_size,\n",
    "    N=args.backbone_output_dim,\n",
    "    stable_init=True,\n",
    "    real_range=1.0e-4,\n",
    "    imag_range=5.0,\n",
    "    dict_count=1,\n",
    ").to(args.device)\n",
    "transop.load_state_dict(state['transop'])"
   ]
  },
  {
   "cell_type": "code",
   "execution_count": 8,
   "metadata": {},
   "outputs": [],
   "source": [
    "from datasets import get_dataset\n",
    "train_data, test_data = get_dataset(\n",
    "    average_trials=True,\n",
    "    average_downsample_factor=50,\n",
    "    random_seed=1830,\n",
    "    dataset_split_version='stimulus',\n",
    ")\n",
    "(v4_train, it_train, label_train, objectid_train, pose_train) = train_data\n",
    "(v4_test, it_test, label_test, objectid_test, pose_test) = test_data"
   ]
  },
  {
   "cell_type": "code",
   "execution_count": 9,
   "metadata": {},
   "outputs": [
    {
     "data": {
      "text/plain": [
       "0.14063525"
      ]
     },
     "execution_count": 9,
     "metadata": {},
     "output_type": "execute_result"
    }
   ],
   "source": [
    "from evaluation import evaluate_IT_explained_variance, embed_v4_data\n",
    "backbone.eval()\n",
    "train_feat = embed_v4_data(v4_train, backbone, args.device)\n",
    "test_feat = embed_v4_data(v4_test, backbone, args.device)\n",
    "evaluate_IT_explained_variance(train_feat, it_train, test_feat, it_test, args)"
   ]
  },
  {
   "cell_type": "code",
   "execution_count": 10,
   "metadata": {},
   "outputs": [
    {
     "data": {
      "text/plain": [
       "0.2803682"
      ]
     },
     "execution_count": 10,
     "metadata": {},
     "output_type": "execute_result"
    }
   ],
   "source": [
    "evaluate_IT_explained_variance(v4_train, it_train, v4_test, it_test, args)"
   ]
  }
 ],
 "metadata": {
  "kernelspec": {
   "display_name": "torch",
   "language": "python",
   "name": "python3"
  },
  "language_info": {
   "codemirror_mode": {
    "name": "ipython",
    "version": 3
   },
   "file_extension": ".py",
   "mimetype": "text/x-python",
   "name": "python",
   "nbconvert_exporter": "python",
   "pygments_lexer": "ipython3",
   "version": "3.10.10"
  },
  "orig_nbformat": 4
 },
 "nbformat": 4,
 "nbformat_minor": 2
}
